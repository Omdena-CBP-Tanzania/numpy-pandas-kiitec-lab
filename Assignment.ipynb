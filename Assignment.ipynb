{
  "nbformat": 4,
  "nbformat_minor": 0,
  "metadata": {
    "colab": {
      "provenance": [],
      "gpuType": "T4"
    },
    "kernelspec": {
      "name": "python3",
      "display_name": "Python 3"
    },
    "language_info": {
      "name": "python"
    }
  },
  "cells": [
    {
      "cell_type": "markdown",
      "source": [
        "QN.1"
      ],
      "metadata": {
        "id": "LfUF227wuiSW"
      }
    },
    {
      "cell_type": "code",
      "source": [
        "import pandas as pd\n",
        "import numpy as np\n",
        "\n",
        "# Create 1D array\n",
        "arr_1d = np.array([1, 2, 3, 4, 5])\n",
        "print(arr_1d)\n"
      ],
      "metadata": {
        "colab": {
          "base_uri": "https://localhost:8080/"
        },
        "id": "FfUETlqAhm32",
        "outputId": "77814e3e-e159-4c50-bc6e-518957e6f22a"
      },
      "execution_count": 11,
      "outputs": [
        {
          "output_type": "stream",
          "name": "stdout",
          "text": [
            "[1 2 3 4 5]\n"
          ]
        }
      ]
    },
    {
      "cell_type": "markdown",
      "source": [
        "QN.2"
      ],
      "metadata": {
        "id": "UQr0vS66u6Hm"
      }
    },
    {
      "cell_type": "code",
      "source": [
        "# Create 2D array (3x3) of consecutive integers\n",
        "arr_2d = np.arange(1, 10).reshape(3, 3)\n",
        "print(arr_2d)"
      ],
      "metadata": {
        "colab": {
          "base_uri": "https://localhost:8080/"
        },
        "id": "THSgEECHt605",
        "outputId": "9f10e190-9520-4f43-9a9b-49e7bb1c8344"
      },
      "execution_count": 4,
      "outputs": [
        {
          "output_type": "stream",
          "name": "stdout",
          "text": [
            "[[1 2 3]\n",
            " [4 5 6]\n",
            " [7 8 9]]\n"
          ]
        }
      ]
    },
    {
      "cell_type": "markdown",
      "source": [
        "QN.3"
      ],
      "metadata": {
        "id": "INL6r9pTu9uk"
      }
    },
    {
      "cell_type": "code",
      "source": [
        "# Array operations\n",
        "mean_value = np.mean(arr_1d)\n",
        "std_dev = np.std(arr_1d)\n",
        "max_value = np.max(arr_1d)\n",
        "\n",
        "print(\"Mean:\", mean_value)\n",
        "print(\"Standard Deviation:\", std_dev)\n",
        "print(\"Max Value:\", max_value)"
      ],
      "metadata": {
        "colab": {
          "base_uri": "https://localhost:8080/"
        },
        "collapsed": true,
        "id": "QVQUmTzSuGAD",
        "outputId": "f0c81e42-1a0e-42e9-a78a-47145b399920"
      },
      "execution_count": 5,
      "outputs": [
        {
          "output_type": "stream",
          "name": "stdout",
          "text": [
            "Mean: 3.0\n",
            "Standard Deviation: 1.4142135623730951\n",
            "Max Value: 5\n"
          ]
        }
      ]
    },
    {
      "cell_type": "markdown",
      "source": [
        "QN.4"
      ],
      "metadata": {
        "id": "pUV51PwzvIsn"
      }
    },
    {
      "cell_type": "code",
      "source": [
        "# Load CSV file\n",
        "df = pd.read_csv('/content/sample-data.csv')\n",
        "print(df)\n"
      ],
      "metadata": {
        "colab": {
          "base_uri": "https://localhost:8080/"
        },
        "collapsed": true,
        "id": "5cGerlMrvQ9-",
        "outputId": "fb769a3b-80f1-4ef6-abdf-434ea4238fc0"
      },
      "execution_count": 6,
      "outputs": [
        {
          "output_type": "stream",
          "name": "stdout",
          "text": [
            "                  Name  Age  Salary          Department  Experience  \\\n",
            "0        Emily Johnson   28   55000           Marketing           4   \n",
            "1         Michael Chen   35   72000         Engineering           8   \n",
            "2      Sarah Rodriguez   42   88000               Sales          15   \n",
            "3            David Kim   31   62000                  IT           6   \n",
            "4      Rachel Thompson   26   48000    Customer Support           3   \n",
            "5           Alex Patel   39   95000             Finance          12   \n",
            "6         Jessica Wong   33   67000                  HR           7   \n",
            "7         Kevin Nguyen   45  105000  Product Management          18   \n",
            "8           Lisa Brown   29   58000              Design           5   \n",
            "9        Robert Garcia   37   81000          Operations          11   \n",
            "10          Amanda Lee   24   42000           Marketing           2   \n",
            "11  Christopher Taylor   40   92000               Sales          14   \n",
            "12     Olivia Martinez   27   52000    Customer Support           4   \n",
            "13         Daniel Park   36   78000         Engineering           9   \n",
            "14         Emma Wilson   32   65000                  IT           6   \n",
            "15         Ryan Sharma   44   98000             Finance          16   \n",
            "16          Sophia Liu   30   59000                  HR           5   \n",
            "17     Thomas Anderson   41   87000  Product Management          13   \n",
            "18      Karen Williams   25   46000              Design           3   \n",
            "19       Mark Robinson   38   83000          Operations          10   \n",
            "20        Jennifer Lee   33   68000           Marketing           7   \n",
            "21         Andrew Chen   36   75000               Sales           8   \n",
            "22       Nicole Garcia   29   54000    Customer Support           4   \n",
            "23          Steven Kim   43   95000         Engineering          15   \n",
            "24        Lauren Patel   27   51000                  IT           3   \n",
            "25     Brian Rodriguez   39   85000             Finance          12   \n",
            "26       Michelle Wong   31   62000                  HR           6   \n",
            "27      Jason Thompson   34   71000  Product Management           7   \n",
            "28         Rebecca Liu   26   47000              Design           2   \n",
            "29     Jonathan Taylor   37   79000          Operations           9   \n",
            "\n",
            "     Education  \n",
            "0   Bachelor's  \n",
            "1     Master's  \n",
            "2          PhD  \n",
            "3   Bachelor's  \n",
            "4   Bachelor's  \n",
            "5     Master's  \n",
            "6   Bachelor's  \n",
            "7     Master's  \n",
            "8   Bachelor's  \n",
            "9     Master's  \n",
            "10  Bachelor's  \n",
            "11         PhD  \n",
            "12  Bachelor's  \n",
            "13    Master's  \n",
            "14  Bachelor's  \n",
            "15         PhD  \n",
            "16  Bachelor's  \n",
            "17    Master's  \n",
            "18  Bachelor's  \n",
            "19    Master's  \n",
            "20  Bachelor's  \n",
            "21    Master's  \n",
            "22  Bachelor's  \n",
            "23         PhD  \n",
            "24  Bachelor's  \n",
            "25    Master's  \n",
            "26  Bachelor's  \n",
            "27  Bachelor's  \n",
            "28  Bachelor's  \n",
            "29    Master's  \n"
          ]
        }
      ]
    },
    {
      "cell_type": "markdown",
      "source": [
        "QN.5"
      ],
      "metadata": {
        "id": "c4dCWeSjvLh7"
      }
    },
    {
      "cell_type": "code",
      "source": [
        "# Check for missing values\n",
        "print(\"Missing values per column:\")\n",
        "print(df.isnull().sum())\n",
        "\n",
        "# Fill missing values with 0\n",
        "df.fillna(0, inplace=True)\n",
        "print(df)\n"
      ],
      "metadata": {
        "colab": {
          "base_uri": "https://localhost:8080/"
        },
        "collapsed": true,
        "id": "BpaocITUvP9R",
        "outputId": "b8319704-41c1-4dd8-9461-3e5f03de4557"
      },
      "execution_count": 7,
      "outputs": [
        {
          "output_type": "stream",
          "name": "stdout",
          "text": [
            "Missing values per column:\n",
            "Name          0\n",
            "Age           0\n",
            "Salary        0\n",
            "Department    0\n",
            "Experience    0\n",
            "Education     0\n",
            "dtype: int64\n",
            "                  Name  Age  Salary          Department  Experience  \\\n",
            "0        Emily Johnson   28   55000           Marketing           4   \n",
            "1         Michael Chen   35   72000         Engineering           8   \n",
            "2      Sarah Rodriguez   42   88000               Sales          15   \n",
            "3            David Kim   31   62000                  IT           6   \n",
            "4      Rachel Thompson   26   48000    Customer Support           3   \n",
            "5           Alex Patel   39   95000             Finance          12   \n",
            "6         Jessica Wong   33   67000                  HR           7   \n",
            "7         Kevin Nguyen   45  105000  Product Management          18   \n",
            "8           Lisa Brown   29   58000              Design           5   \n",
            "9        Robert Garcia   37   81000          Operations          11   \n",
            "10          Amanda Lee   24   42000           Marketing           2   \n",
            "11  Christopher Taylor   40   92000               Sales          14   \n",
            "12     Olivia Martinez   27   52000    Customer Support           4   \n",
            "13         Daniel Park   36   78000         Engineering           9   \n",
            "14         Emma Wilson   32   65000                  IT           6   \n",
            "15         Ryan Sharma   44   98000             Finance          16   \n",
            "16          Sophia Liu   30   59000                  HR           5   \n",
            "17     Thomas Anderson   41   87000  Product Management          13   \n",
            "18      Karen Williams   25   46000              Design           3   \n",
            "19       Mark Robinson   38   83000          Operations          10   \n",
            "20        Jennifer Lee   33   68000           Marketing           7   \n",
            "21         Andrew Chen   36   75000               Sales           8   \n",
            "22       Nicole Garcia   29   54000    Customer Support           4   \n",
            "23          Steven Kim   43   95000         Engineering          15   \n",
            "24        Lauren Patel   27   51000                  IT           3   \n",
            "25     Brian Rodriguez   39   85000             Finance          12   \n",
            "26       Michelle Wong   31   62000                  HR           6   \n",
            "27      Jason Thompson   34   71000  Product Management           7   \n",
            "28         Rebecca Liu   26   47000              Design           2   \n",
            "29     Jonathan Taylor   37   79000          Operations           9   \n",
            "\n",
            "     Education  \n",
            "0   Bachelor's  \n",
            "1     Master's  \n",
            "2          PhD  \n",
            "3   Bachelor's  \n",
            "4   Bachelor's  \n",
            "5     Master's  \n",
            "6   Bachelor's  \n",
            "7     Master's  \n",
            "8   Bachelor's  \n",
            "9     Master's  \n",
            "10  Bachelor's  \n",
            "11         PhD  \n",
            "12  Bachelor's  \n",
            "13    Master's  \n",
            "14  Bachelor's  \n",
            "15         PhD  \n",
            "16  Bachelor's  \n",
            "17    Master's  \n",
            "18  Bachelor's  \n",
            "19    Master's  \n",
            "20  Bachelor's  \n",
            "21    Master's  \n",
            "22  Bachelor's  \n",
            "23         PhD  \n",
            "24  Bachelor's  \n",
            "25    Master's  \n",
            "26  Bachelor's  \n",
            "27  Bachelor's  \n",
            "28  Bachelor's  \n",
            "29    Master's  \n"
          ]
        }
      ]
    },
    {
      "cell_type": "markdown",
      "source": [
        "QN.6"
      ],
      "metadata": {
        "id": "NHCU5nPZtzR2"
      }
    },
    {
      "cell_type": "code",
      "source": [
        "# Select columns 'Age' and 'Name' and the first 5 rows\n",
        "selected_data = df[['Name', 'Age']].iloc[:5]\n",
        "print(selected_data)\n"
      ],
      "metadata": {
        "colab": {
          "base_uri": "https://localhost:8080/"
        },
        "collapsed": true,
        "id": "wqcpVZ1kvkJ1",
        "outputId": "e51267fb-8ea8-469c-e5bd-3579332ceb0d"
      },
      "execution_count": 9,
      "outputs": [
        {
          "output_type": "stream",
          "name": "stdout",
          "text": [
            "              Name  Age\n",
            "0    Emily Johnson   28\n",
            "1     Michael Chen   35\n",
            "2  Sarah Rodriguez   42\n",
            "3        David Kim   31\n",
            "4  Rachel Thompson   26\n"
          ]
        }
      ]
    },
    {
      "cell_type": "markdown",
      "source": [
        "QN.7"
      ],
      "metadata": {
        "id": "kBpTVl7dwGbZ"
      }
    },
    {
      "cell_type": "code",
      "source": [
        "# Rename columns\n",
        "df.rename(columns={'Name': 'Names'}, inplace=True)\n",
        "print(df)\n"
      ],
      "metadata": {
        "colab": {
          "base_uri": "https://localhost:8080/"
        },
        "collapsed": true,
        "id": "nfP9Peh1vmX-",
        "outputId": "b85927ed-3f9c-44f7-9ee9-70c72d4e5c58"
      },
      "execution_count": 10,
      "outputs": [
        {
          "output_type": "stream",
          "name": "stdout",
          "text": [
            "                 Names  Age  Salary          Department  Experience  \\\n",
            "0        Emily Johnson   28   55000           Marketing           4   \n",
            "1         Michael Chen   35   72000         Engineering           8   \n",
            "2      Sarah Rodriguez   42   88000               Sales          15   \n",
            "3            David Kim   31   62000                  IT           6   \n",
            "4      Rachel Thompson   26   48000    Customer Support           3   \n",
            "5           Alex Patel   39   95000             Finance          12   \n",
            "6         Jessica Wong   33   67000                  HR           7   \n",
            "7         Kevin Nguyen   45  105000  Product Management          18   \n",
            "8           Lisa Brown   29   58000              Design           5   \n",
            "9        Robert Garcia   37   81000          Operations          11   \n",
            "10          Amanda Lee   24   42000           Marketing           2   \n",
            "11  Christopher Taylor   40   92000               Sales          14   \n",
            "12     Olivia Martinez   27   52000    Customer Support           4   \n",
            "13         Daniel Park   36   78000         Engineering           9   \n",
            "14         Emma Wilson   32   65000                  IT           6   \n",
            "15         Ryan Sharma   44   98000             Finance          16   \n",
            "16          Sophia Liu   30   59000                  HR           5   \n",
            "17     Thomas Anderson   41   87000  Product Management          13   \n",
            "18      Karen Williams   25   46000              Design           3   \n",
            "19       Mark Robinson   38   83000          Operations          10   \n",
            "20        Jennifer Lee   33   68000           Marketing           7   \n",
            "21         Andrew Chen   36   75000               Sales           8   \n",
            "22       Nicole Garcia   29   54000    Customer Support           4   \n",
            "23          Steven Kim   43   95000         Engineering          15   \n",
            "24        Lauren Patel   27   51000                  IT           3   \n",
            "25     Brian Rodriguez   39   85000             Finance          12   \n",
            "26       Michelle Wong   31   62000                  HR           6   \n",
            "27      Jason Thompson   34   71000  Product Management           7   \n",
            "28         Rebecca Liu   26   47000              Design           2   \n",
            "29     Jonathan Taylor   37   79000          Operations           9   \n",
            "\n",
            "     Education  \n",
            "0   Bachelor's  \n",
            "1     Master's  \n",
            "2          PhD  \n",
            "3   Bachelor's  \n",
            "4   Bachelor's  \n",
            "5     Master's  \n",
            "6   Bachelor's  \n",
            "7     Master's  \n",
            "8   Bachelor's  \n",
            "9     Master's  \n",
            "10  Bachelor's  \n",
            "11         PhD  \n",
            "12  Bachelor's  \n",
            "13    Master's  \n",
            "14  Bachelor's  \n",
            "15         PhD  \n",
            "16  Bachelor's  \n",
            "17    Master's  \n",
            "18  Bachelor's  \n",
            "19    Master's  \n",
            "20  Bachelor's  \n",
            "21    Master's  \n",
            "22  Bachelor's  \n",
            "23         PhD  \n",
            "24  Bachelor's  \n",
            "25    Master's  \n",
            "26  Bachelor's  \n",
            "27  Bachelor's  \n",
            "28  Bachelor's  \n",
            "29    Master's  \n"
          ]
        }
      ]
    }
  ]
}